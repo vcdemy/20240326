{
 "cells": [
  {
   "cell_type": "markdown",
   "id": "24a6ecbc-8f3b-4ad0-8514-38affa9db52e",
   "metadata": {},
   "source": [
    "# 20240326筆記"
   ]
  },
  {
   "cell_type": "markdown",
   "id": "c5673f16-ee5a-4d67-b6c9-6c6970c2aed3",
   "metadata": {},
   "source": [
    "[關於阿姆斯壯數 #040](https://zerojudge.tw/ShowProblem?problemid=a040)"
   ]
  },
  {
   "cell_type": "code",
   "execution_count": 1,
   "id": "918461da-8148-4bcf-b658-731a8e28a5da",
   "metadata": {},
   "outputs": [
    {
     "name": "stdin",
     "output_type": "stream",
     "text": [
      "請輸入起始數字： 100\n",
      "請輸入結束數字： 999\n"
     ]
    },
    {
     "name": "stdout",
     "output_type": "stream",
     "text": [
      "這之間的阿姆斯壯數有:\n",
      "[153, 370, 371, 407]\n"
     ]
    }
   ],
   "source": [
    "def is_armstrong_number(num):\n",
    "    # 计算数字的位数\n",
    "    num_str = str(num)\n",
    "    num_digits = len(num_str)\n",
    "    \n",
    "    # 计算每个位上的数字的n次幂之和\n",
    "    sum_of_digits = sum(int(digit)**num_digits for digit in num_str)\n",
    "    \n",
    "    # 如果数字等于其每个位上的数字的n次幂之和，则它是阿姆斯特朗数\n",
    "    return num == sum_of_digits\n",
    "\n",
    "def find_armstrong_numbers(start, end):\n",
    "    armstrong_numbers = []\n",
    "    for num in range(start, end + 1):\n",
    "        if is_armstrong_number(num):\n",
    "            armstrong_numbers.append(num)\n",
    "    return armstrong_numbers\n",
    "\n",
    "def main():\n",
    "    try:\n",
    "        start = int(input(\"請輸入起始數字：\"))\n",
    "        end = int(input(\"請輸入結束數字：\"))\n",
    "        \n",
    "        if start >= end:\n",
    "            print(\"起始數字必須小於結束數字。\")\n",
    "            return\n",
    "        \n",
    "        armstrong_numbers = find_armstrong_numbers(start, end)\n",
    "        \n",
    "        if armstrong_numbers:\n",
    "            print(\"這之間的阿姆斯壯數有:\")\n",
    "            print(armstrong_numbers)\n",
    "        else:\n",
    "            print(\"這之間沒有阿姆斯壯數。\")\n",
    "    except ValueError:\n",
    "        print(\"請輸入有效的整數。\")\n",
    "\n",
    "if __name__ == \"__main__\":\n",
    "    main()\n"
   ]
  },
  {
   "cell_type": "code",
   "execution_count": 2,
   "id": "0d7de7e2-4ecd-40c2-a40d-cd809c7c75db",
   "metadata": {},
   "outputs": [
    {
     "name": "stdin",
     "output_type": "stream",
     "text": [
      "請輸入兩個數字，中間用空格分開： 100 999\n"
     ]
    },
    {
     "name": "stdout",
     "output_type": "stream",
     "text": [
      "這之間的阿姆斯壯數有:\n",
      "[153, 370, 371, 407]\n"
     ]
    }
   ],
   "source": [
    "def is_armstrong_number(num):\n",
    "    # 计算数字的位数\n",
    "    num_str = str(num)\n",
    "    num_digits = len(num_str)\n",
    "    \n",
    "    # 计算每个位上的数字的n次幂之和\n",
    "    sum_of_digits = sum(int(digit)**num_digits for digit in num_str)\n",
    "    \n",
    "    # 如果数字等于其每个位上的数字的n次幂之和，则它是阿姆斯特朗数\n",
    "    return num == sum_of_digits\n",
    "\n",
    "def find_armstrong_numbers(start, end):\n",
    "    armstrong_numbers = []\n",
    "    for num in range(start, end + 1):\n",
    "        if is_armstrong_number(num):\n",
    "            armstrong_numbers.append(num)\n",
    "    return armstrong_numbers\n",
    "\n",
    "def main():\n",
    "    try:\n",
    "        start, end = map(int, input(\"請輸入兩個數字，中間用空格分開：\").split())\n",
    "        \n",
    "        if start >= end:\n",
    "            print(\"起始數字必須小於結束數字。\")\n",
    "            return\n",
    "        \n",
    "        armstrong_numbers = find_armstrong_numbers(start, end)\n",
    "        \n",
    "        if armstrong_numbers:\n",
    "            print(\"這之間的阿姆斯壯數有:\")\n",
    "            print(armstrong_numbers)\n",
    "        else:\n",
    "            print(\"這之間沒有阿姆斯壯數。\")\n",
    "    except ValueError:\n",
    "        print(\"請輸入有效的整數。\")\n",
    "\n",
    "if __name__ == \"__main__\":\n",
    "    main()\n"
   ]
  },
  {
   "cell_type": "code",
   "execution_count": 3,
   "id": "d99f5f60-5952-424e-a3fd-8665dc10c822",
   "metadata": {},
   "outputs": [
    {
     "name": "stdin",
     "output_type": "stream",
     "text": [
      "請輸入兩個數字，中間用空格分開： 100 999\n"
     ]
    },
    {
     "name": "stdout",
     "output_type": "stream",
     "text": [
      "這之間的阿姆斯壯數有:\n",
      "[153, 370, 371, 407]\n"
     ]
    }
   ],
   "source": [
    "try:\n",
    "    start, end = map(int, input(\"請輸入兩個數字，中間用空格分開：\").split())\n",
    "\n",
    "    if start >= end:\n",
    "        print(\"起始數字必須小於結束數字。\")\n",
    "    else:\n",
    "        armstrong_numbers = []\n",
    "        for num in range(start, end + 1):\n",
    "            num_str = str(num)\n",
    "            num_digits = len(num_str)\n",
    "            sum_of_digits = sum(int(digit)**num_digits for digit in num_str)\n",
    "            if num == sum_of_digits:\n",
    "                armstrong_numbers.append(num)\n",
    "\n",
    "        if armstrong_numbers:\n",
    "            print(\"這之間的阿姆斯壯數有:\")\n",
    "            print(armstrong_numbers)\n",
    "        else:\n",
    "            print(\"這之間沒有阿姆斯壯數。\")\n",
    "except ValueError:\n",
    "    print(\"請輸入有效的整數。\")\n"
   ]
  },
  {
   "cell_type": "code",
   "execution_count": 5,
   "id": "c90c43ca-f699-4f2c-8768-ebe7f7e5769a",
   "metadata": {},
   "outputs": [
    {
     "name": "stdin",
     "output_type": "stream",
     "text": [
      "請輸入兩個數字，中間用空格分開： 10 99\n"
     ]
    },
    {
     "name": "stdout",
     "output_type": "stream",
     "text": [
      "\n"
     ]
    }
   ],
   "source": [
    "try:\n",
    "    start, end = map(int, input(\"請輸入兩個數字，中間用空格分開：\").split())\n",
    "\n",
    "    if start >= end:\n",
    "        print(\"起始數字必須小於結束數字。\")\n",
    "    else:\n",
    "        armstrong_numbers = []\n",
    "        for num in range(start, end + 1):\n",
    "            num_str = str(num)\n",
    "            num_digits = len(num_str)\n",
    "            sum_of_digits = sum(int(digit)**num_digits for digit in num_str)\n",
    "            if num == sum_of_digits:\n",
    "                print(num, end=' ')\n",
    "        print()  # 打印换行符以结束输出\n",
    "except ValueError:\n",
    "    print(\"請輸入有效的整數。\")\n"
   ]
  },
  {
   "cell_type": "markdown",
   "id": "d69fcfcf-8eba-494c-a592-dd4993cea731",
   "metadata": {},
   "source": [
    "## 阿姆斯壯數\n",
    "\n",
    "$1634 = 1^4 + 6^4 + 3^4 + 4^4$"
   ]
  },
  {
   "cell_type": "code",
   "execution_count": 10,
   "id": "e1f1efdc-8f75-4fe4-8ea7-146d7fbde178",
   "metadata": {},
   "outputs": [],
   "source": [
    "def armstrong(n):\n",
    "    s = str(n)\n",
    "    total = 0\n",
    "    c = len(s)\n",
    "    for i in s:\n",
    "        total += int(i)**c\n",
    "    return total==n"
   ]
  },
  {
   "cell_type": "code",
   "execution_count": 13,
   "id": "0ba2e51e-416e-4f7c-adb8-5e510c09b094",
   "metadata": {},
   "outputs": [
    {
     "name": "stdin",
     "output_type": "stream",
     "text": [
      " 100 999\n"
     ]
    },
    {
     "name": "stdout",
     "output_type": "stream",
     "text": [
      "153\n",
      "370\n",
      "371\n",
      "407\n"
     ]
    }
   ],
   "source": [
    "m, n = input().split()\n",
    "for i in range(int(m), int(n)+1):\n",
    "    if armstrong(i):\n",
    "        print(i)"
   ]
  },
  {
   "cell_type": "code",
   "execution_count": 16,
   "id": "5d1d6579-eb0e-4e31-a35d-db90318a3c0d",
   "metadata": {},
   "outputs": [
    {
     "name": "stdin",
     "output_type": "stream",
     "text": [
      " 100 999\n"
     ]
    },
    {
     "data": {
      "text/plain": [
       "[153, 370, 371, 407]"
      ]
     },
     "execution_count": 16,
     "metadata": {},
     "output_type": "execute_result"
    }
   ],
   "source": [
    "m, n = input().split()\n",
    "answers = []\n",
    "for i in range(int(m), int(n)+1):\n",
    "    if armstrong(i):\n",
    "        answers.append(i)\n",
    "answers"
   ]
  },
  {
   "cell_type": "code",
   "execution_count": 18,
   "id": "af0c7db2-c012-4a81-ac22-63ce57dab0d1",
   "metadata": {},
   "outputs": [
    {
     "name": "stdin",
     "output_type": "stream",
     "text": [
      " 100 999\n"
     ]
    },
    {
     "data": {
      "text/plain": [
       "['153', '370', '371', '407']"
      ]
     },
     "execution_count": 18,
     "metadata": {},
     "output_type": "execute_result"
    }
   ],
   "source": [
    "m, n = input().split()\n",
    "answers = []\n",
    "for i in range(int(m), int(n)+1):\n",
    "    if armstrong(i):\n",
    "        answers.append(str(i))\n",
    "answers"
   ]
  },
  {
   "cell_type": "code",
   "execution_count": 19,
   "id": "fd289f79-9112-4182-b95e-ddd4263ff59f",
   "metadata": {},
   "outputs": [
    {
     "data": {
      "text/plain": [
       "'153 370 371 407'"
      ]
     },
     "execution_count": 19,
     "metadata": {},
     "output_type": "execute_result"
    }
   ],
   "source": [
    "\" \".join(answers)"
   ]
  },
  {
   "cell_type": "markdown",
   "id": "e48232e9-6147-4bf7-ad8d-b2aa587a9277",
   "metadata": {},
   "source": [
    "## 練習 01\n",
    "\n",
    "請寫一個猜數字的程式。\n",
    "\n",
    "先用亂數產生一個[1, 5]之間的整數n，再請使用者猜亂數產生什麼樣的數字，如果猜中了，就印出猜對了，不然就印出，猜錯了，正確答案是n。"
   ]
  },
  {
   "cell_type": "code",
   "execution_count": 20,
   "id": "431ea950-e46d-4db2-8f41-e975cc556479",
   "metadata": {},
   "outputs": [],
   "source": [
    "import random"
   ]
  },
  {
   "cell_type": "code",
   "execution_count": 50,
   "id": "dc3f1138-e6ef-472a-8e18-5da2e8143f61",
   "metadata": {},
   "outputs": [
    {
     "name": "stdin",
     "output_type": "stream",
     "text": [
      "猜猜看，是哪一個數字？ 2\n"
     ]
    },
    {
     "name": "stdout",
     "output_type": "stream",
     "text": [
      "沒錯，答案是2!\n"
     ]
    }
   ],
   "source": [
    "n = random.randint(1, 5)\n",
    "x = input(\"猜猜看，是哪一個數字？\")\n",
    "if int(x)==n:\n",
    "    print(f\"沒錯，答案是{n}!\")\n",
    "else:\n",
    "    print(f\"錯了，答案是{n}!\")"
   ]
  },
  {
   "cell_type": "markdown",
   "id": "c64aa54a-e17b-4641-951c-ea869d6aecd1",
   "metadata": {},
   "source": [
    "## 練習 02\n",
    "請寫一個練習乘法的程式。\n",
    "\n",
    "先用亂數產生兩個[2, 9]之間的整數m, n，再請使用者輸入mxn的結果，如果算對了，就印出好厲害，不然就印出，正確答案是mxn喔，請繼續努力。"
   ]
  },
  {
   "cell_type": "code",
   "execution_count": 57,
   "id": "8cd5002c-84f4-43f1-908b-7a609b8a9af1",
   "metadata": {},
   "outputs": [
    {
     "name": "stdin",
     "output_type": "stream",
     "text": [
      "請問 7 x 9 = ？ 64\n"
     ]
    },
    {
     "name": "stdout",
     "output_type": "stream",
     "text": [
      "錯了，答案是63!\n"
     ]
    }
   ],
   "source": [
    "m = random.randint(2, 9)\n",
    "n = random.randint(2, 9)\n",
    "x = input(f\"請問 {m} x {n} = ？\")\n",
    "if int(x)==m*n:\n",
    "    print(f\"沒錯，答案是 {x}!\")\n",
    "else:\n",
    "    print(f\"錯了，答案是 {m*n}!\")"
   ]
  },
  {
   "cell_type": "markdown",
   "id": "3ba86ed6-2aa6-4b08-96cf-fb123ee2e8be",
   "metadata": {},
   "source": [
    "## Pandas基礎\n",
    "\n",
    "* Series\n",
    "* DataFrame"
   ]
  },
  {
   "cell_type": "markdown",
   "id": "f8e6a99c-d1cb-48c6-a4dd-1e8b1cf6322a",
   "metadata": {},
   "source": [
    "### Series"
   ]
  },
  {
   "cell_type": "code",
   "execution_count": 58,
   "id": "343209a5-e0ef-42f6-8801-2b629e894655",
   "metadata": {},
   "outputs": [],
   "source": [
    "data1 = list(range(1, 6))"
   ]
  },
  {
   "cell_type": "code",
   "execution_count": 59,
   "id": "7cad7b07-d9dd-497e-b919-34787532883c",
   "metadata": {},
   "outputs": [
    {
     "data": {
      "text/plain": [
       "[1, 2, 3, 4, 5]"
      ]
     },
     "execution_count": 59,
     "metadata": {},
     "output_type": "execute_result"
    }
   ],
   "source": [
    "data1"
   ]
  },
  {
   "cell_type": "code",
   "execution_count": 60,
   "id": "b5c2566e-f6f9-4d73-8829-cd8f4ee5c251",
   "metadata": {},
   "outputs": [],
   "source": [
    "data2 = list(range(2, 7))"
   ]
  },
  {
   "cell_type": "code",
   "execution_count": 61,
   "id": "0b73b515-5418-495f-98f3-051cf1b41275",
   "metadata": {},
   "outputs": [
    {
     "data": {
      "text/plain": [
       "[2, 3, 4, 5, 6]"
      ]
     },
     "execution_count": 61,
     "metadata": {},
     "output_type": "execute_result"
    }
   ],
   "source": [
    "data2"
   ]
  },
  {
   "cell_type": "code",
   "execution_count": 66,
   "id": "f3bbacd5-9e93-4473-98c6-0d6f5e8712df",
   "metadata": {},
   "outputs": [],
   "source": [
    "import pandas as pd\n",
    "import numpy as np"
   ]
  },
  {
   "cell_type": "code",
   "execution_count": 74,
   "id": "80d66b2b-5f40-44ea-9129-87a25ae16e6c",
   "metadata": {},
   "outputs": [],
   "source": [
    "series1 = pd.Series(data1)\n",
    "series2 = pd.Series(data2)"
   ]
  },
  {
   "cell_type": "code",
   "execution_count": 67,
   "id": "e8bc5708-1959-4a7d-a7d6-1ec2c0ffb516",
   "metadata": {},
   "outputs": [],
   "source": [
    "array1 = np.array(data1)\n",
    "array2 = np.array(data2)"
   ]
  },
  {
   "cell_type": "code",
   "execution_count": 65,
   "id": "3de63dbb-ec1a-4c31-8d74-ce73f627e3bc",
   "metadata": {},
   "outputs": [
    {
     "data": {
      "text/plain": [
       "0    1\n",
       "1    2\n",
       "2    3\n",
       "3    4\n",
       "4    5\n",
       "dtype: int64"
      ]
     },
     "execution_count": 65,
     "metadata": {},
     "output_type": "execute_result"
    }
   ],
   "source": [
    "series1"
   ]
  },
  {
   "cell_type": "code",
   "execution_count": 68,
   "id": "3793b63a-b8ed-4e99-8f7a-54f80b5e910f",
   "metadata": {},
   "outputs": [
    {
     "data": {
      "text/plain": [
       "array([1, 2, 3, 4, 5])"
      ]
     },
     "execution_count": 68,
     "metadata": {},
     "output_type": "execute_result"
    }
   ],
   "source": [
    "array1"
   ]
  },
  {
   "cell_type": "code",
   "execution_count": 69,
   "id": "7cd93bb2-28bb-4a0e-b4ab-d43d71e463d4",
   "metadata": {},
   "outputs": [
    {
     "data": {
      "text/plain": [
       "array([1, 2, 3, 4, 5], dtype=int64)"
      ]
     },
     "execution_count": 69,
     "metadata": {},
     "output_type": "execute_result"
    }
   ],
   "source": [
    "series1.values"
   ]
  },
  {
   "cell_type": "code",
   "execution_count": 71,
   "id": "debf67b7-b136-4738-b59e-d9430643faa5",
   "metadata": {},
   "outputs": [
    {
     "data": {
      "text/plain": [
       "array([ True,  True,  True,  True,  True])"
      ]
     },
     "execution_count": 71,
     "metadata": {},
     "output_type": "execute_result"
    }
   ],
   "source": [
    "array1 == series1.values"
   ]
  },
  {
   "cell_type": "code",
   "execution_count": 72,
   "id": "979cdc98-02e2-4b4b-bc05-dd07801e39c3",
   "metadata": {},
   "outputs": [
    {
     "data": {
      "text/plain": [
       "array([ 3,  5,  7,  9, 11])"
      ]
     },
     "execution_count": 72,
     "metadata": {},
     "output_type": "execute_result"
    }
   ],
   "source": [
    "array1 + array2"
   ]
  },
  {
   "cell_type": "code",
   "execution_count": 75,
   "id": "fb9fc9ef-f6f2-4940-852e-83cc0ba39220",
   "metadata": {},
   "outputs": [
    {
     "data": {
      "text/plain": [
       "0     3\n",
       "1     5\n",
       "2     7\n",
       "3     9\n",
       "4    11\n",
       "dtype: int64"
      ]
     },
     "execution_count": 75,
     "metadata": {},
     "output_type": "execute_result"
    }
   ],
   "source": [
    "series1 + series2"
   ]
  },
  {
   "cell_type": "code",
   "execution_count": 76,
   "id": "fe2e14d6-a929-4727-aaaa-9c5dddef70c7",
   "metadata": {},
   "outputs": [],
   "source": [
    "series1.index = list('abcde')"
   ]
  },
  {
   "cell_type": "code",
   "execution_count": 77,
   "id": "67ffd635-a972-439f-bdaf-c15d3beee263",
   "metadata": {},
   "outputs": [
    {
     "data": {
      "text/plain": [
       "a    1\n",
       "b    2\n",
       "c    3\n",
       "d    4\n",
       "e    5\n",
       "dtype: int64"
      ]
     },
     "execution_count": 77,
     "metadata": {},
     "output_type": "execute_result"
    }
   ],
   "source": [
    "series1"
   ]
  },
  {
   "cell_type": "code",
   "execution_count": 78,
   "id": "346f39bb-a022-4006-b13f-268cdd52a7b7",
   "metadata": {},
   "outputs": [],
   "source": [
    "series2.index = list('bcdef')"
   ]
  },
  {
   "cell_type": "code",
   "execution_count": 79,
   "id": "a9dccf48-469e-49e3-9f6c-76190f16b82a",
   "metadata": {},
   "outputs": [
    {
     "data": {
      "text/plain": [
       "b    2\n",
       "c    3\n",
       "d    4\n",
       "e    5\n",
       "f    6\n",
       "dtype: int64"
      ]
     },
     "execution_count": 79,
     "metadata": {},
     "output_type": "execute_result"
    }
   ],
   "source": [
    "series2"
   ]
  },
  {
   "cell_type": "code",
   "execution_count": 80,
   "id": "757cc584-0ff6-4685-bf95-e557e2619a8b",
   "metadata": {},
   "outputs": [
    {
     "data": {
      "text/plain": [
       "a     NaN\n",
       "b     4.0\n",
       "c     6.0\n",
       "d     8.0\n",
       "e    10.0\n",
       "f     NaN\n",
       "dtype: float64"
      ]
     },
     "execution_count": 80,
     "metadata": {},
     "output_type": "execute_result"
    }
   ],
   "source": [
    "series1 + series2"
   ]
  },
  {
   "cell_type": "code",
   "execution_count": 81,
   "id": "22674edf-a9fd-4068-9ae2-e335fa82c671",
   "metadata": {},
   "outputs": [
    {
     "data": {
      "text/plain": [
       "a     NaN\n",
       "b     4.0\n",
       "c     9.0\n",
       "d    16.0\n",
       "e    25.0\n",
       "f     NaN\n",
       "dtype: float64"
      ]
     },
     "execution_count": 81,
     "metadata": {},
     "output_type": "execute_result"
    }
   ],
   "source": [
    "series1*series2"
   ]
  },
  {
   "cell_type": "code",
   "execution_count": 82,
   "id": "53aacafe-7b43-44e8-8828-e94d07ce2813",
   "metadata": {},
   "outputs": [
    {
     "data": {
      "text/plain": [
       "a    1\n",
       "b    2\n",
       "c    3\n",
       "d    4\n",
       "e    5\n",
       "dtype: int64"
      ]
     },
     "execution_count": 82,
     "metadata": {},
     "output_type": "execute_result"
    }
   ],
   "source": [
    "series1"
   ]
  },
  {
   "cell_type": "code",
   "execution_count": 83,
   "id": "f69c18ad-1023-4e23-b6cc-48b68a26b4e9",
   "metadata": {
    "collapsed": true,
    "jupyter": {
     "outputs_hidden": true
    }
   },
   "outputs": [
    {
     "name": "stderr",
     "output_type": "stream",
     "text": [
      "C:\\Users\\Victor\\AppData\\Local\\Temp\\ipykernel_6464\\2253950659.py:1: FutureWarning: Series.__getitem__ treating keys as positions is deprecated. In a future version, integer keys will always be treated as labels (consistent with DataFrame behavior). To access a value by position, use `ser.iloc[pos]`\n",
      "  series1[0]\n"
     ]
    },
    {
     "data": {
      "text/plain": [
       "1"
      ]
     },
     "execution_count": 83,
     "metadata": {},
     "output_type": "execute_result"
    }
   ],
   "source": [
    "series1[0]"
   ]
  },
  {
   "cell_type": "code",
   "execution_count": 84,
   "id": "c78b008c-f74c-4101-9628-6e2eaadbf924",
   "metadata": {},
   "outputs": [
    {
     "data": {
      "text/plain": [
       "1"
      ]
     },
     "execution_count": 84,
     "metadata": {},
     "output_type": "execute_result"
    }
   ],
   "source": [
    "series1.iloc[0]"
   ]
  },
  {
   "cell_type": "code",
   "execution_count": 85,
   "id": "683bb32b-9cb3-4df4-b753-9dec39e2bd28",
   "metadata": {},
   "outputs": [
    {
     "data": {
      "text/plain": [
       "1"
      ]
     },
     "execution_count": 85,
     "metadata": {},
     "output_type": "execute_result"
    }
   ],
   "source": [
    "series1['a']"
   ]
  },
  {
   "cell_type": "code",
   "execution_count": 87,
   "id": "a9bb5313-6eeb-430e-9aa1-1c140d708a83",
   "metadata": {},
   "outputs": [
    {
     "data": {
      "text/plain": [
       "1"
      ]
     },
     "execution_count": 87,
     "metadata": {},
     "output_type": "execute_result"
    }
   ],
   "source": [
    "series1.loc['a']"
   ]
  },
  {
   "cell_type": "code",
   "execution_count": 88,
   "id": "2fdfd139-631b-483a-8fa7-bd9289f91a62",
   "metadata": {},
   "outputs": [
    {
     "data": {
      "text/plain": [
       "a    1\n",
       "b    2\n",
       "c    3\n",
       "d    4\n",
       "e    5\n",
       "dtype: int64"
      ]
     },
     "execution_count": 88,
     "metadata": {},
     "output_type": "execute_result"
    }
   ],
   "source": [
    "series1"
   ]
  },
  {
   "cell_type": "code",
   "execution_count": 90,
   "id": "4c5ac14b-a169-4bd5-8cf7-216f8c345d92",
   "metadata": {},
   "outputs": [
    {
     "data": {
      "text/plain": [
       "b    2\n",
       "c    3\n",
       "dtype: int64"
      ]
     },
     "execution_count": 90,
     "metadata": {},
     "output_type": "execute_result"
    }
   ],
   "source": [
    "series1.iloc[1:3]"
   ]
  },
  {
   "cell_type": "code",
   "execution_count": 91,
   "id": "df08b25f-518d-4398-b458-d55c0750e5ab",
   "metadata": {},
   "outputs": [
    {
     "data": {
      "text/plain": [
       "b    2\n",
       "c    3\n",
       "d    4\n",
       "dtype: int64"
      ]
     },
     "execution_count": 91,
     "metadata": {},
     "output_type": "execute_result"
    }
   ],
   "source": [
    "series1.loc['b':'d']"
   ]
  },
  {
   "cell_type": "code",
   "execution_count": 94,
   "id": "da8cf987-21aa-4c9f-afc1-957397876458",
   "metadata": {},
   "outputs": [],
   "source": [
    "series1.index = list('abcda')"
   ]
  },
  {
   "cell_type": "code",
   "execution_count": 95,
   "id": "68f7392b-606b-4181-be58-d17d26a64ef6",
   "metadata": {},
   "outputs": [
    {
     "data": {
      "text/plain": [
       "a    1\n",
       "b    2\n",
       "c    3\n",
       "d    4\n",
       "a    5\n",
       "dtype: int64"
      ]
     },
     "execution_count": 95,
     "metadata": {},
     "output_type": "execute_result"
    }
   ],
   "source": [
    "series1"
   ]
  },
  {
   "cell_type": "code",
   "execution_count": 96,
   "id": "111ad3d5-6b1c-4ff1-9acd-1cddf9f5b4c4",
   "metadata": {},
   "outputs": [
    {
     "data": {
      "text/plain": [
       "a    1\n",
       "a    5\n",
       "dtype: int64"
      ]
     },
     "execution_count": 96,
     "metadata": {},
     "output_type": "execute_result"
    }
   ],
   "source": [
    "series1.loc['a']"
   ]
  },
  {
   "cell_type": "markdown",
   "id": "2470a270-72fd-40dd-88ab-4e038a00a4b5",
   "metadata": {},
   "source": [
    "## 關於數學運算"
   ]
  },
  {
   "cell_type": "code",
   "execution_count": 97,
   "id": "7b9ccac0-0dc6-4947-9aea-7cb798d19688",
   "metadata": {},
   "outputs": [],
   "source": [
    "import math"
   ]
  },
  {
   "cell_type": "code",
   "execution_count": 98,
   "id": "9b39ef64-8230-44e1-a51d-caaa57af191b",
   "metadata": {},
   "outputs": [
    {
     "data": {
      "text/plain": [
       "10"
      ]
     },
     "execution_count": 98,
     "metadata": {},
     "output_type": "execute_result"
    }
   ],
   "source": [
    "math.gcd(10, 50)"
   ]
  },
  {
   "cell_type": "code",
   "execution_count": 99,
   "id": "0ecfd1f4-01c1-462a-b666-be6245247c1c",
   "metadata": {},
   "outputs": [
    {
     "data": {
      "text/plain": [
       "36"
      ]
     },
     "execution_count": 99,
     "metadata": {},
     "output_type": "execute_result"
    }
   ],
   "source": [
    "math.lcm(12, 18)"
   ]
  },
  {
   "cell_type": "code",
   "execution_count": 100,
   "id": "1737312c-d579-4f02-971d-dda30d5efbf0",
   "metadata": {
    "scrolled": true
   },
   "outputs": [
    {
     "data": {
      "text/plain": [
       "\u001b[1;31mSignature:\u001b[0m \u001b[0mmath\u001b[0m\u001b[1;33m.\u001b[0m\u001b[0macos\u001b[0m\u001b[1;33m(\u001b[0m\u001b[0mx\u001b[0m\u001b[1;33m,\u001b[0m \u001b[1;33m/\u001b[0m\u001b[1;33m)\u001b[0m\u001b[1;33m\u001b[0m\u001b[1;33m\u001b[0m\u001b[0m\n",
       "\u001b[1;31mDocstring:\u001b[0m\n",
       "Return the arc cosine (measured in radians) of x.\n",
       "\n",
       "The result is between 0 and pi.\n",
       "\u001b[1;31mType:\u001b[0m      builtin_function_or_method"
      ]
     },
     "metadata": {},
     "output_type": "display_data"
    }
   ],
   "source": [
    "math.acos?"
   ]
  },
  {
   "cell_type": "code",
   "execution_count": 101,
   "id": "8dcb5537-3edb-40ff-9539-5d9154f37c7e",
   "metadata": {},
   "outputs": [
    {
     "data": {
      "text/plain": [
       "72"
      ]
     },
     "execution_count": 101,
     "metadata": {},
     "output_type": "execute_result"
    }
   ],
   "source": [
    "math.lcm(12, 18, 24)"
   ]
  },
  {
   "cell_type": "code",
   "execution_count": 109,
   "id": "2facc6e4-abaf-49fd-9ddc-a26b0c8f2066",
   "metadata": {},
   "outputs": [
    {
     "name": "stdin",
     "output_type": "stream",
     "text": [
      " 0\n"
     ]
    }
   ],
   "source": [
    "n = input()\n",
    "if int(n)!=0:\n",
    "    x = input().split()\n",
    "    data = []\n",
    "    for i in range(int(n)):\n",
    "        data.append(int(x[i]))\n",
    "    print(math.lcm(*data))"
   ]
  },
  {
   "cell_type": "code",
   "execution_count": 110,
   "id": "dfc6c85f-a326-4c6f-906e-d04dc8862307",
   "metadata": {},
   "outputs": [
    {
     "data": {
      "text/plain": [
       "4"
      ]
     },
     "execution_count": 110,
     "metadata": {},
     "output_type": "execute_result"
    }
   ],
   "source": [
    "math.gcd(4, 8, 12)"
   ]
  },
  {
   "cell_type": "code",
   "execution_count": 129,
   "id": "07a340c7-3e1c-4227-9310-536ad0c11a5b",
   "metadata": {},
   "outputs": [],
   "source": [
    "def lcm(a, b):\n",
    "    return a*b//math.gcd(a, b)"
   ]
  },
  {
   "cell_type": "code",
   "execution_count": 133,
   "id": "891947ba-0d80-4c87-b475-b0a6a9d83a62",
   "metadata": {},
   "outputs": [],
   "source": [
    "import functools\n",
    "\n",
    "def nlcm(*args):\n",
    "    return functools.reduce(lcm, args)"
   ]
  },
  {
   "cell_type": "code",
   "execution_count": 138,
   "id": "ae33ece8-241f-47c9-befd-60318d5ac28b",
   "metadata": {},
   "outputs": [
    {
     "data": {
      "text/plain": [
       "10"
      ]
     },
     "execution_count": 138,
     "metadata": {},
     "output_type": "execute_result"
    }
   ],
   "source": [
    "def add(a, b):\n",
    "    return a + b\n",
    "functools.reduce(add, [1, 2, 3, 4])"
   ]
  },
  {
   "cell_type": "code",
   "execution_count": 139,
   "id": "bcbb064a-200c-4488-b96d-d4b69a11591d",
   "metadata": {},
   "outputs": [
    {
     "data": {
      "text/plain": [
       "10"
      ]
     },
     "execution_count": 139,
     "metadata": {},
     "output_type": "execute_result"
    }
   ],
   "source": [
    "functools.reduce(lambda a, b: a + b, [1, 2, 3, 4])"
   ]
  },
  {
   "cell_type": "code",
   "execution_count": 136,
   "id": "41bf8edf-f4d6-452d-aff6-4944843ba8a1",
   "metadata": {},
   "outputs": [
    {
     "data": {
      "text/plain": [
       "24"
      ]
     },
     "execution_count": 136,
     "metadata": {},
     "output_type": "execute_result"
    }
   ],
   "source": [
    "nlcm(8, 12, 24)"
   ]
  },
  {
   "cell_type": "code",
   "execution_count": 137,
   "id": "6a069014-0e60-449e-bf37-eb83a2b5fd8a",
   "metadata": {},
   "outputs": [
    {
     "data": {
      "text/plain": [
       "24"
      ]
     },
     "execution_count": 137,
     "metadata": {},
     "output_type": "execute_result"
    }
   ],
   "source": [
    "math.lcm(8, 12, 24)"
   ]
  },
  {
   "cell_type": "code",
   "execution_count": 128,
   "id": "2d321168-aa1d-40d8-b0dc-b7904ed0f06f",
   "metadata": {},
   "outputs": [
    {
     "data": {
      "text/plain": [
       "1"
      ]
     },
     "execution_count": 128,
     "metadata": {},
     "output_type": "execute_result"
    }
   ],
   "source": [
    "math.gcd(12, 8, 5)"
   ]
  },
  {
   "cell_type": "code",
   "execution_count": 120,
   "id": "9e0bd77a-4cf9-42b3-8441-c291e010d562",
   "metadata": {},
   "outputs": [],
   "source": [
    "x = [12, 20, 18, 25, 6]"
   ]
  },
  {
   "cell_type": "code",
   "execution_count": 121,
   "id": "6d8bfa92-b363-427b-9986-4e752ec32497",
   "metadata": {},
   "outputs": [
    {
     "data": {
      "text/plain": [
       "5"
      ]
     },
     "execution_count": 121,
     "metadata": {},
     "output_type": "execute_result"
    }
   ],
   "source": [
    "# 回傳 list 長度\n",
    "len(x)"
   ]
  },
  {
   "cell_type": "code",
   "execution_count": 122,
   "id": "b9a65b96-facd-475f-87e4-c0135c273263",
   "metadata": {},
   "outputs": [
    {
     "data": {
      "text/plain": [
       "6"
      ]
     },
     "execution_count": 122,
     "metadata": {},
     "output_type": "execute_result"
    }
   ],
   "source": [
    "min(x)"
   ]
  },
  {
   "cell_type": "code",
   "execution_count": 123,
   "id": "f33c3a7e-ab8c-4ec0-8fbf-5ed9e9a35730",
   "metadata": {},
   "outputs": [
    {
     "data": {
      "text/plain": [
       "25"
      ]
     },
     "execution_count": 123,
     "metadata": {},
     "output_type": "execute_result"
    }
   ],
   "source": [
    "max(x)"
   ]
  },
  {
   "cell_type": "code",
   "execution_count": 124,
   "id": "3cea1c06-493c-40aa-9a12-95f5ece3081b",
   "metadata": {},
   "outputs": [
    {
     "data": {
      "text/plain": [
       "81"
      ]
     },
     "execution_count": 124,
     "metadata": {},
     "output_type": "execute_result"
    }
   ],
   "source": [
    "sum(x)"
   ]
  },
  {
   "cell_type": "code",
   "execution_count": 127,
   "id": "025d7e16-d5f4-4b33-a8e2-d863d6d35677",
   "metadata": {},
   "outputs": [
    {
     "data": {
      "text/plain": [
       "16.2"
      ]
     },
     "execution_count": 127,
     "metadata": {},
     "output_type": "execute_result"
    }
   ],
   "source": [
    "sum(x)/len(x)"
   ]
  },
  {
   "cell_type": "code",
   "execution_count": null,
   "id": "ee403759-809f-423f-9ec8-18174b25f3d1",
   "metadata": {},
   "outputs": [],
   "source": []
  }
 ],
 "metadata": {
  "kernelspec": {
   "display_name": "Python 3 (ipykernel)",
   "language": "python",
   "name": "python3"
  },
  "language_info": {
   "codemirror_mode": {
    "name": "ipython",
    "version": 3
   },
   "file_extension": ".py",
   "mimetype": "text/x-python",
   "name": "python",
   "nbconvert_exporter": "python",
   "pygments_lexer": "ipython3",
   "version": "3.12.2"
  }
 },
 "nbformat": 4,
 "nbformat_minor": 5
}
