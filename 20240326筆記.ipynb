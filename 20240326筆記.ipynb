{
 "cells": [
  {
   "cell_type": "markdown",
   "id": "24a6ecbc-8f3b-4ad0-8514-38affa9db52e",
   "metadata": {},
   "source": [
    "# 20240326筆記"
   ]
  },
  {
   "cell_type": "markdown",
   "id": "c5673f16-ee5a-4d67-b6c9-6c6970c2aed3",
   "metadata": {},
   "source": [
    "[關於阿姆斯壯數 #040](https://zerojudge.tw/ShowProblem?problemid=a040)"
   ]
  },
  {
   "cell_type": "code",
   "execution_count": 1,
   "id": "918461da-8148-4bcf-b658-731a8e28a5da",
   "metadata": {},
   "outputs": [
    {
     "name": "stdin",
     "output_type": "stream",
     "text": [
      "請輸入起始數字： 100\n",
      "請輸入結束數字： 999\n"
     ]
    },
    {
     "name": "stdout",
     "output_type": "stream",
     "text": [
      "這之間的阿姆斯壯數有:\n",
      "[153, 370, 371, 407]\n"
     ]
    }
   ],
   "source": [
    "def is_armstrong_number(num):\n",
    "    # 计算数字的位数\n",
    "    num_str = str(num)\n",
    "    num_digits = len(num_str)\n",
    "    \n",
    "    # 计算每个位上的数字的n次幂之和\n",
    "    sum_of_digits = sum(int(digit)**num_digits for digit in num_str)\n",
    "    \n",
    "    # 如果数字等于其每个位上的数字的n次幂之和，则它是阿姆斯特朗数\n",
    "    return num == sum_of_digits\n",
    "\n",
    "def find_armstrong_numbers(start, end):\n",
    "    armstrong_numbers = []\n",
    "    for num in range(start, end + 1):\n",
    "        if is_armstrong_number(num):\n",
    "            armstrong_numbers.append(num)\n",
    "    return armstrong_numbers\n",
    "\n",
    "def main():\n",
    "    try:\n",
    "        start = int(input(\"請輸入起始數字：\"))\n",
    "        end = int(input(\"請輸入結束數字：\"))\n",
    "        \n",
    "        if start >= end:\n",
    "            print(\"起始數字必須小於結束數字。\")\n",
    "            return\n",
    "        \n",
    "        armstrong_numbers = find_armstrong_numbers(start, end)\n",
    "        \n",
    "        if armstrong_numbers:\n",
    "            print(\"這之間的阿姆斯壯數有:\")\n",
    "            print(armstrong_numbers)\n",
    "        else:\n",
    "            print(\"這之間沒有阿姆斯壯數。\")\n",
    "    except ValueError:\n",
    "        print(\"請輸入有效的整數。\")\n",
    "\n",
    "if __name__ == \"__main__\":\n",
    "    main()\n"
   ]
  },
  {
   "cell_type": "code",
   "execution_count": 2,
   "id": "0d7de7e2-4ecd-40c2-a40d-cd809c7c75db",
   "metadata": {},
   "outputs": [
    {
     "name": "stdin",
     "output_type": "stream",
     "text": [
      "請輸入兩個數字，中間用空格分開： 100 999\n"
     ]
    },
    {
     "name": "stdout",
     "output_type": "stream",
     "text": [
      "這之間的阿姆斯壯數有:\n",
      "[153, 370, 371, 407]\n"
     ]
    }
   ],
   "source": [
    "def is_armstrong_number(num):\n",
    "    # 计算数字的位数\n",
    "    num_str = str(num)\n",
    "    num_digits = len(num_str)\n",
    "    \n",
    "    # 计算每个位上的数字的n次幂之和\n",
    "    sum_of_digits = sum(int(digit)**num_digits for digit in num_str)\n",
    "    \n",
    "    # 如果数字等于其每个位上的数字的n次幂之和，则它是阿姆斯特朗数\n",
    "    return num == sum_of_digits\n",
    "\n",
    "def find_armstrong_numbers(start, end):\n",
    "    armstrong_numbers = []\n",
    "    for num in range(start, end + 1):\n",
    "        if is_armstrong_number(num):\n",
    "            armstrong_numbers.append(num)\n",
    "    return armstrong_numbers\n",
    "\n",
    "def main():\n",
    "    try:\n",
    "        start, end = map(int, input(\"請輸入兩個數字，中間用空格分開：\").split())\n",
    "        \n",
    "        if start >= end:\n",
    "            print(\"起始數字必須小於結束數字。\")\n",
    "            return\n",
    "        \n",
    "        armstrong_numbers = find_armstrong_numbers(start, end)\n",
    "        \n",
    "        if armstrong_numbers:\n",
    "            print(\"這之間的阿姆斯壯數有:\")\n",
    "            print(armstrong_numbers)\n",
    "        else:\n",
    "            print(\"這之間沒有阿姆斯壯數。\")\n",
    "    except ValueError:\n",
    "        print(\"請輸入有效的整數。\")\n",
    "\n",
    "if __name__ == \"__main__\":\n",
    "    main()\n"
   ]
  },
  {
   "cell_type": "code",
   "execution_count": 3,
   "id": "d99f5f60-5952-424e-a3fd-8665dc10c822",
   "metadata": {},
   "outputs": [
    {
     "name": "stdin",
     "output_type": "stream",
     "text": [
      "請輸入兩個數字，中間用空格分開： 100 999\n"
     ]
    },
    {
     "name": "stdout",
     "output_type": "stream",
     "text": [
      "這之間的阿姆斯壯數有:\n",
      "[153, 370, 371, 407]\n"
     ]
    }
   ],
   "source": [
    "try:\n",
    "    start, end = map(int, input(\"請輸入兩個數字，中間用空格分開：\").split())\n",
    "\n",
    "    if start >= end:\n",
    "        print(\"起始數字必須小於結束數字。\")\n",
    "    else:\n",
    "        armstrong_numbers = []\n",
    "        for num in range(start, end + 1):\n",
    "            num_str = str(num)\n",
    "            num_digits = len(num_str)\n",
    "            sum_of_digits = sum(int(digit)**num_digits for digit in num_str)\n",
    "            if num == sum_of_digits:\n",
    "                armstrong_numbers.append(num)\n",
    "\n",
    "        if armstrong_numbers:\n",
    "            print(\"這之間的阿姆斯壯數有:\")\n",
    "            print(armstrong_numbers)\n",
    "        else:\n",
    "            print(\"這之間沒有阿姆斯壯數。\")\n",
    "except ValueError:\n",
    "    print(\"請輸入有效的整數。\")\n"
   ]
  },
  {
   "cell_type": "code",
   "execution_count": 5,
   "id": "c90c43ca-f699-4f2c-8768-ebe7f7e5769a",
   "metadata": {},
   "outputs": [
    {
     "name": "stdin",
     "output_type": "stream",
     "text": [
      "請輸入兩個數字，中間用空格分開： 10 99\n"
     ]
    },
    {
     "name": "stdout",
     "output_type": "stream",
     "text": [
      "\n"
     ]
    }
   ],
   "source": [
    "try:\n",
    "    start, end = map(int, input(\"請輸入兩個數字，中間用空格分開：\").split())\n",
    "\n",
    "    if start >= end:\n",
    "        print(\"起始數字必須小於結束數字。\")\n",
    "    else:\n",
    "        armstrong_numbers = []\n",
    "        for num in range(start, end + 1):\n",
    "            num_str = str(num)\n",
    "            num_digits = len(num_str)\n",
    "            sum_of_digits = sum(int(digit)**num_digits for digit in num_str)\n",
    "            if num == sum_of_digits:\n",
    "                print(num, end=' ')\n",
    "        print()  # 打印换行符以结束输出\n",
    "except ValueError:\n",
    "    print(\"請輸入有效的整數。\")\n"
   ]
  },
  {
   "cell_type": "markdown",
   "id": "d69fcfcf-8eba-494c-a592-dd4993cea731",
   "metadata": {},
   "source": [
    "## 阿姆斯壯數\n",
    "\n",
    "$1634 = 1^4 + 6^4 + 3^4 + 4^4$"
   ]
  },
  {
   "cell_type": "code",
   "execution_count": 10,
   "id": "e1f1efdc-8f75-4fe4-8ea7-146d7fbde178",
   "metadata": {},
   "outputs": [],
   "source": [
    "def armstrong(n):\n",
    "    s = str(n)\n",
    "    total = 0\n",
    "    c = len(s)\n",
    "    for i in s:\n",
    "        total += int(i)**c\n",
    "    return total==n"
   ]
  },
  {
   "cell_type": "code",
   "execution_count": 13,
   "id": "0ba2e51e-416e-4f7c-adb8-5e510c09b094",
   "metadata": {},
   "outputs": [
    {
     "name": "stdin",
     "output_type": "stream",
     "text": [
      " 100 999\n"
     ]
    },
    {
     "name": "stdout",
     "output_type": "stream",
     "text": [
      "153\n",
      "370\n",
      "371\n",
      "407\n"
     ]
    }
   ],
   "source": [
    "m, n = input().split()\n",
    "for i in range(int(m), int(n)+1):\n",
    "    if armstrong(i):\n",
    "        print(i)"
   ]
  },
  {
   "cell_type": "code",
   "execution_count": 16,
   "id": "5d1d6579-eb0e-4e31-a35d-db90318a3c0d",
   "metadata": {},
   "outputs": [
    {
     "name": "stdin",
     "output_type": "stream",
     "text": [
      " 100 999\n"
     ]
    },
    {
     "data": {
      "text/plain": [
       "[153, 370, 371, 407]"
      ]
     },
     "execution_count": 16,
     "metadata": {},
     "output_type": "execute_result"
    }
   ],
   "source": [
    "m, n = input().split()\n",
    "answers = []\n",
    "for i in range(int(m), int(n)+1):\n",
    "    if armstrong(i):\n",
    "        answers.append(i)\n",
    "answers"
   ]
  },
  {
   "cell_type": "code",
   "execution_count": 18,
   "id": "af0c7db2-c012-4a81-ac22-63ce57dab0d1",
   "metadata": {},
   "outputs": [
    {
     "name": "stdin",
     "output_type": "stream",
     "text": [
      " 100 999\n"
     ]
    },
    {
     "data": {
      "text/plain": [
       "['153', '370', '371', '407']"
      ]
     },
     "execution_count": 18,
     "metadata": {},
     "output_type": "execute_result"
    }
   ],
   "source": [
    "m, n = input().split()\n",
    "answers = []\n",
    "for i in range(int(m), int(n)+1):\n",
    "    if armstrong(i):\n",
    "        answers.append(str(i))\n",
    "answers"
   ]
  },
  {
   "cell_type": "code",
   "execution_count": 19,
   "id": "fd289f79-9112-4182-b95e-ddd4263ff59f",
   "metadata": {},
   "outputs": [
    {
     "data": {
      "text/plain": [
       "'153 370 371 407'"
      ]
     },
     "execution_count": 19,
     "metadata": {},
     "output_type": "execute_result"
    }
   ],
   "source": [
    "\" \".join(answers)"
   ]
  },
  {
   "cell_type": "code",
   "execution_count": null,
   "id": "e2addff2-7cfa-4947-8c13-2cec08969c56",
   "metadata": {},
   "outputs": [],
   "source": []
  }
 ],
 "metadata": {
  "kernelspec": {
   "display_name": "Python 3 (ipykernel)",
   "language": "python",
   "name": "python3"
  },
  "language_info": {
   "codemirror_mode": {
    "name": "ipython",
    "version": 3
   },
   "file_extension": ".py",
   "mimetype": "text/x-python",
   "name": "python",
   "nbconvert_exporter": "python",
   "pygments_lexer": "ipython3",
   "version": "3.12.2"
  }
 },
 "nbformat": 4,
 "nbformat_minor": 5
}
